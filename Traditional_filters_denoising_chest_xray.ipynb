{
  "nbformat": 4,
  "nbformat_minor": 0,
  "metadata": {
    "colab": {
      "provenance": []
    },
    "kernelspec": {
      "name": "python3",
      "display_name": "Python 3"
    },
    "language_info": {
      "name": "python"
    }
  },
  "cells": [
    {
      "cell_type": "code",
      "source": [
        "!pip install PyWavelets\n"
      ],
      "metadata": {
        "colab": {
          "base_uri": "https://localhost:8080/"
        },
        "id": "9gjnACqecTGf",
        "outputId": "bf938e63-53ee-4555-da51-d3fdfbd76318"
      },
      "execution_count": null,
      "outputs": [
        {
          "output_type": "stream",
          "name": "stdout",
          "text": [
            "Requirement already satisfied: PyWavelets in /usr/local/lib/python3.10/dist-packages (1.7.0)\n",
            "Requirement already satisfied: numpy<3,>=1.23 in /usr/local/lib/python3.10/dist-packages (from PyWavelets) (1.26.4)\n"
          ]
        }
      ]
    },
    {
      "cell_type": "code",
      "source": [
        "from google.colab import drive\n",
        "drive.mount('/content/drive')"
      ],
      "metadata": {
        "colab": {
          "base_uri": "https://localhost:8080/"
        },
        "id": "XDrzBL9XU_h3",
        "outputId": "dbad4454-e0dd-47a5-cf52-a01d4f61c3ee"
      },
      "execution_count": null,
      "outputs": [
        {
          "output_type": "stream",
          "name": "stdout",
          "text": [
            "Mounted at /content/drive\n"
          ]
        }
      ]
    },
    {
      "cell_type": "markdown",
      "source": [
        "Traditional methods for denoising"
      ],
      "metadata": {
        "id": "909tll0ecTs_"
      }
    },
    {
      "cell_type": "code",
      "source": [
        "import os\n",
        "import numpy as np\n",
        "import pandas as pd\n",
        "import matplotlib.pyplot as plt\n",
        "import cv2\n",
        "import pywt\n",
        "from skimage.metrics import structural_similarity as ssim\n",
        "\n",
        "# Define utility functions for metrics\n",
        "def calculate_psnr(original, denoised):\n",
        "    mse_value = np.mean((original - denoised) ** 2)\n",
        "    if mse_value == 0:\n",
        "        return 100  # Avoid log(0)\n",
        "    max_pixel = 255.0\n",
        "    return 10 * np.log10(max_pixel ** 2 / mse_value)\n",
        "\n",
        "def calculate_ssim(original, denoised):\n",
        "    return ssim(original, denoised, data_range=original.max() - original.min())\n",
        "\n",
        "def calculate_mse(original, denoised):\n",
        "    return np.mean((original - denoised) ** 2)\n",
        "\n",
        "# Define denoising methods\n",
        "def apply_denoising(image, method):\n",
        "    if method == \"Mean\":\n",
        "        return cv2.blur(image, (5, 5))\n",
        "    elif method == \"Median\":\n",
        "        return cv2.medianBlur(image, 5)\n",
        "    elif method == \"Gaussian\":\n",
        "        return cv2.GaussianBlur(image, (5, 5), 1.5)\n",
        "    elif method == \"Bilateral\":\n",
        "        return cv2.bilateralFilter(image, 9, 75, 75)\n",
        "    elif method == \"Weiner\":\n",
        "        return wiener_filter(image)\n",
        "    elif method == \"Wavelet\":\n",
        "        return wavelet_denoise(image)\n",
        "    elif method == \"Fourier\":\n",
        "        return fourier_denoise(image)\n",
        "    else:\n",
        "        raise ValueError(\"Unknown method\")\n",
        "\n",
        "# Wiener filter\n",
        "def wiener_filter(image):\n",
        "    from scipy.signal import wiener\n",
        "    filtered = wiener(image, (5, 5))\n",
        "    filtered = np.nan_to_num(filtered, nan=0.0)\n",
        "    return np.clip(filtered, 0, 255).astype(np.uint8)\n",
        "\n",
        "# Wavelet denoising\n",
        "def wavelet_denoise(image):\n",
        "    coeffs = pywt.wavedec2(image, 'haar', level=2)\n",
        "    coeffs_thresh = [coeffs[0]]\n",
        "    for details in coeffs[1:]:\n",
        "        coeffs_thresh.append(tuple(pywt.threshold(c, value=30, mode='soft') for c in details))\n",
        "    return pywt.waverec2(coeffs_thresh, 'haar').astype(np.uint8)\n",
        "\n",
        "# Fourier denoising\n",
        "def fourier_denoise(image):\n",
        "    f = np.fft.fft2(image)\n",
        "    fshift = np.fft.fftshift(f)\n",
        "    rows, cols = image.shape\n",
        "    crow, ccol = rows // 2, cols // 2\n",
        "    mask = np.zeros((rows, cols), np.uint8)\n",
        "    mask[crow-30:crow+30, ccol-30:ccol+30] = 1\n",
        "    fshift *= mask\n",
        "    f_ishift = np.fft.ifftshift(fshift)\n",
        "    img_back = np.fft.ifft2(f_ishift)\n",
        "    return np.abs(img_back).astype(np.uint8)\n",
        "\n",
        "# Base path to the dataset\n",
        "base_path = '/content/drive/MyDrive/CS415Project/Noisy COVID-19 X-ray Dataset'\n",
        "\n",
        "# Folders for the noise types\n",
        "main_folders = [\"Basic\", \"AWGN\", \"Noisy\"]\n",
        "\n",
        "# Define the category folders within each main folder\n",
        "categories = [\"covid\", \"normal\", \"viral\"]\n",
        "\n",
        "# Define methods and metrics\n",
        "methods = [\"Mean\", \"Median\", \"Gaussian\", \"Bilateral\", \"Weiner\", \"Wavelet\", \"Fourier\"]\n",
        "metrics = {\"PSNR\": calculate_psnr, \"SSIM\": calculate_ssim, \"MSE\": calculate_mse}\n",
        "\n",
        "# Initialize results dictionary\n",
        "results = {folder: {category: {method: {metric: [] for metric in metrics} for method in methods}\n",
        "                    for category in categories} for folder in main_folders}\n",
        "\n",
        "# Loop through each main folder, category, and method\n",
        "for main_folder in main_folders:\n",
        "    for category in categories:\n",
        "        category_path = os.path.join(base_path, main_folder, \"test\", category)\n",
        "        image_files = os.listdir(category_path)[:50]  # Process the first 50 images\n",
        "\n",
        "        for img_name in image_files:\n",
        "            img = cv2.imread(os.path.join(category_path, img_name), cv2.IMREAD_GRAYSCALE)\n",
        "\n",
        "            if img is None:\n",
        "                print(f\"Warning: Image {img_name} in {category_path} could not be loaded.\")\n",
        "                continue\n",
        "\n",
        "            for method in methods:\n",
        "                denoised_img = apply_denoising(img, method)\n",
        "                for metric, func in metrics.items():\n",
        "                    results[main_folder][category][method][metric].append(func(img, denoised_img))\n",
        "\n",
        "# Average results\n",
        "average_results = {main_folder: {category: {method: {metric: np.mean(values)\n",
        "                                                     for metric, values in metrics.items() }\n",
        "                                           for method, metrics in category_dict.items() }\n",
        "                                 for category, category_dict in main_dict.items() }\n",
        "                   for main_folder, main_dict in results.items()}\n",
        "\n",
        "# Prepare data for Excel and plotting\n",
        "data = []\n",
        "for main_folder in main_folders:\n",
        "    for category in categories:\n",
        "        for method in methods:\n",
        "            row = {'Noise Type': main_folder, 'Category': category, 'Method': method}\n",
        "            for metric in metrics:\n",
        "                row[metric] = average_results[main_folder][category][method][metric]\n",
        "            data.append(row)\n",
        "\n",
        "# Create DataFrame\n",
        "df = pd.DataFrame(data)\n",
        "\n",
        "# Save to Excel file\n",
        "output_path = os.path.join(base_path, 'denoising_metrics_results.xlsx')\n",
        "df.to_excel(output_path, index=False)\n",
        "print(f\"Results saved to {output_path}\")\n",
        "\n",
        "# Create bar charts for each category\n",
        "chart_base_path = os.path.join(base_path, \"charts\")\n",
        "os.makedirs(chart_base_path, exist_ok=True)\n",
        "\n",
        "# Generate bar charts for each category\n",
        "for noise_type in [\"AWGN\", \"Noisy\"]:\n",
        "    for category in categories:\n",
        "        # Filter data for current category and noise type\n",
        "        filtered_data = df[(df['Noise Type'] == noise_type) & (df['Category'] == category)]\n",
        "\n",
        "        # Plot for each metric (PSNR, MSE, SSIM)\n",
        "        for metric in metrics:\n",
        "            fig, ax = plt.subplots(figsize=(8, 5))\n",
        "\n",
        "            # Extract values for each method\n",
        "            method_values = [filtered_data[filtered_data['Method'] == method][metric].values[0] for method in methods]\n",
        "\n",
        "            # Plot the bar chart\n",
        "            ax.bar(methods, method_values, color=[\"#1f77b4\", \"#ff7f0e\", \"#2ca02c\", \"#d62728\", \"#9467bd\", \"#8c564b\", \"#e377c2\"])\n",
        "\n",
        "            # Set chart labels and title\n",
        "            ax.set_xlabel(\"Methods\")\n",
        "            ax.set_ylabel(f\"{metric} Value\")\n",
        "            ax.set_title(f\"{metric} - {noise_type} - {category.capitalize()}\")\n",
        "\n",
        "            # Add the metric value on top of each bar\n",
        "            for i, v in enumerate(method_values):\n",
        "                ax.text(i, v + 0.5, round(v, 2), ha='center')\n",
        "\n",
        "            # Save chart\n",
        "            chart_path = os.path.join(chart_base_path, f\"{noise_type}_{category}_{metric}.png\")\n",
        "            plt.savefig(chart_path)\n",
        "            plt.close(fig)\n",
        "\n",
        "print(f\"Charts saved in {chart_base_path}\")\n"
      ],
      "metadata": {
        "colab": {
          "base_uri": "https://localhost:8080/"
        },
        "id": "2v05WjG5aYmG",
        "outputId": "edf23f17-c635-43f7-ff2b-0e9ff9535043"
      },
      "execution_count": null,
      "outputs": [
        {
          "output_type": "stream",
          "name": "stdout",
          "text": [
            "Results saved to /content/drive/MyDrive/CS415Project/Noisy COVID-19 X-ray Dataset/denoising_metrics_results.xlsx\n",
            "Charts saved in /content/drive/MyDrive/CS415Project/Noisy COVID-19 X-ray Dataset/charts\n"
          ]
        }
      ]
    }
  ]
}